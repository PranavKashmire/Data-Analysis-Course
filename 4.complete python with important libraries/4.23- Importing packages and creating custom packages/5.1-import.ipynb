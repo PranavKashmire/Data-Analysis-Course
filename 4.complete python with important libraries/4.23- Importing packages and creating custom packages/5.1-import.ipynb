{
 "cells": [
  {
   "cell_type": "markdown",
   "metadata": {},
   "source": [
    "##### Importing Modules in Python: Modules and Packages\n",
    "In Python, modules and packages help organize and reuse code. Here's a comprehensive guide on how to import them."
   ]
  },
  {
   "cell_type": "code",
   "execution_count": null,
   "metadata": {},
   "outputs": [
    {
     "data": {
      "text/plain": [
       "4.0"
      ]
     },
     "execution_count": 1,
     "metadata": {},
     "output_type": "execute_result"
    }
   ],
   "source": [
    "#heres how we import a package----- imprt package_name :\n",
    "import math\n",
    "\n",
    "#sqrt is an inbuild fuction in math package \n",
    "math.sqrt(16)"
   ]
  },
  {
   "cell_type": "code",
   "execution_count": null,
   "metadata": {},
   "outputs": [
    {
     "name": "stdout",
     "output_type": "stream",
     "text": [
      "4.0\n",
      "5.0\n",
      "3.141592653589793\n"
     ]
    }
   ],
   "source": [
    "#ti import fuunction from a package\n",
    "from math import sqrt,pi\n",
    "print(sqrt(16))\n",
    "print(sqrt(25))\n",
    "print(pi)"
   ]
  },
  {
   "cell_type": "code",
   "execution_count": null,
   "metadata": {},
   "outputs": [
    {
     "data": {
      "text/plain": [
       "array([1, 2, 3, 4])"
      ]
     },
     "execution_count": 5,
     "metadata": {},
     "output_type": "execute_result"
    }
   ],
   "source": [
    "import numpy as np\n",
    "# \"np\" is an aliace for the \"numpy\" , so that I dont have to type \"numpy\" every time I want to use it.\n",
    "np.array([1,2,3,4])\n",
    "\n",
    "#also note that when we install python some basic packages will get installed like math, random etc.\n",
    "#BUT  we need to install the package(eg, nummpy) manually when we need to use them.\n",
    "# for installing a package , give the following command in the terminal :\n",
    "#pip install package_name "
   ]
  },
  {
   "cell_type": "code",
   "execution_count": null,
   "metadata": {},
   "outputs": [
    {
     "name": "stdout",
     "output_type": "stream",
     "text": [
      "4.0\n",
      "3.141592653589793\n"
     ]
    }
   ],
   "source": [
    "# when we wnant to import all the functions from a module, we can use the following syntax :\n",
    "from math import *\n",
    "#HERE * stands for \"all\"\n",
    "print(sqrt(16))\n",
    "print(pi)"
   ]
  },
  {
   "cell_type": "code",
   "execution_count": null,
   "metadata": {},
   "outputs": [
    {
     "data": {
      "text/plain": [
       "5"
      ]
     },
     "execution_count": 14,
     "metadata": {},
     "output_type": "execute_result"
    }
   ],
   "source": [
    "#note : when we need to make our own custom package :\n",
    "# we need to create a folder \"package\" and inside it we need to create a file \"__init__.py\" \n",
    "#this file is empty and it is used to tell python that this is a custom package and \n",
    "# it isitializes our custom functions which we create inside this package\n",
    "\n",
    "\n",
    "#now this is how we can import our custom package here: \n",
    "from package.abcd import pqr\n",
    "pqr(2,3)\n",
    "\n",
    "#here we are importing the function \"pqr\" from the package \"abcd\" "
   ]
  },
  {
   "cell_type": "code",
   "execution_count": null,
   "metadata": {},
   "outputs": [
    {
     "data": {
      "text/plain": [
       "5"
      ]
     },
     "execution_count": 23,
     "metadata": {},
     "output_type": "execute_result"
    }
   ],
   "source": [
    "#another way of writing the same is : \n",
    "from package import abcd\n",
    "abcd.pqr(2,3)\n",
    "\n",
    "\n",
    "\n",
    "#to import all the functions from the package \"abcd\"\n",
    "from package.abcd import *"
   ]
  },
  {
   "cell_type": "markdown",
   "metadata": {},
   "source": [
    "#### Conclusion\n",
    "Importing modules and packages in Python allows you to organize your code, reuse functionalities, and keep your projects clean and manageable. By understanding how to import modules, specific functions, and use relative imports within packages, you can structure your Python applications more effectively."
   ]
  },
  {
   "cell_type": "markdown",
   "metadata": {},
   "source": []
  }
 ],
 "metadata": {
  "kernelspec": {
   "display_name": "Python 3",
   "language": "python",
   "name": "python3"
  },
  "language_info": {
   "codemirror_mode": {
    "name": "ipython",
    "version": 3
   },
   "file_extension": ".py",
   "mimetype": "text/x-python",
   "name": "python",
   "nbconvert_exporter": "python",
   "pygments_lexer": "ipython3",
   "version": "3.12.0"
  }
 },
 "nbformat": 4,
 "nbformat_minor": 2
}
